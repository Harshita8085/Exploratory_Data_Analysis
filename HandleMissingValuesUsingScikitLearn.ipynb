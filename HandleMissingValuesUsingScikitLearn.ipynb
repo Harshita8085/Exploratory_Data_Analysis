{
 "cells": [
  {
   "cell_type": "code",
   "execution_count": 7,
   "id": "ba458150",
   "metadata": {},
   "outputs": [],
   "source": [
    "# Handling missing value using scikit learn librabry\n",
    "import pandas as pd\n",
    "import numpy as np\n",
    "import matplotlib.pyplot as plt\n",
    "import seaborn as sns\n",
    "from sklearn.impute import SimpleImputer"
   ]
  },
  {
   "cell_type": "code",
   "execution_count": 5,
   "id": "fd202438",
   "metadata": {},
   "outputs": [
    {
     "data": {
      "text/html": [
       "<div>\n",
       "<style scoped>\n",
       "    .dataframe tbody tr th:only-of-type {\n",
       "        vertical-align: middle;\n",
       "    }\n",
       "\n",
       "    .dataframe tbody tr th {\n",
       "        vertical-align: top;\n",
       "    }\n",
       "\n",
       "    .dataframe thead th {\n",
       "        text-align: right;\n",
       "    }\n",
       "</style>\n",
       "<table border=\"1\" class=\"dataframe\">\n",
       "  <thead>\n",
       "    <tr style=\"text-align: right;\">\n",
       "      <th></th>\n",
       "      <th>Name</th>\n",
       "      <th>Age</th>\n",
       "      <th>Course</th>\n",
       "      <th>Email</th>\n",
       "      <th>Mobile_no</th>\n",
       "    </tr>\n",
       "  </thead>\n",
       "  <tbody>\n",
       "    <tr>\n",
       "      <th>0</th>\n",
       "      <td>Harshita</td>\n",
       "      <td>27</td>\n",
       "      <td>DAC</td>\n",
       "      <td>harshu@gmail.com</td>\n",
       "      <td>12345.0</td>\n",
       "    </tr>\n",
       "    <tr>\n",
       "      <th>1</th>\n",
       "      <td>Sourabh</td>\n",
       "      <td>26</td>\n",
       "      <td>DBDA</td>\n",
       "      <td>saurabh@gmail.com</td>\n",
       "      <td>57882.0</td>\n",
       "    </tr>\n",
       "    <tr>\n",
       "      <th>2</th>\n",
       "      <td>Neeraj</td>\n",
       "      <td>24</td>\n",
       "      <td>DBDA</td>\n",
       "      <td>neeraj@gmail.com</td>\n",
       "      <td>56923.0</td>\n",
       "    </tr>\n",
       "    <tr>\n",
       "      <th>3</th>\n",
       "      <td>Bhaskar</td>\n",
       "      <td>24</td>\n",
       "      <td>MBA</td>\n",
       "      <td>bhaskar@gmail.com</td>\n",
       "      <td>74632.0</td>\n",
       "    </tr>\n",
       "    <tr>\n",
       "      <th>4</th>\n",
       "      <td>Dipika</td>\n",
       "      <td>28</td>\n",
       "      <td>NaN</td>\n",
       "      <td>dipika@gmail.com</td>\n",
       "      <td>98022.0</td>\n",
       "    </tr>\n",
       "    <tr>\n",
       "      <th>5</th>\n",
       "      <td>Shraddha</td>\n",
       "      <td>25</td>\n",
       "      <td>NaN</td>\n",
       "      <td>NaN</td>\n",
       "      <td>63748.0</td>\n",
       "    </tr>\n",
       "    <tr>\n",
       "      <th>6</th>\n",
       "      <td>Manthan</td>\n",
       "      <td>23</td>\n",
       "      <td>DBDA</td>\n",
       "      <td>man@gmail.com</td>\n",
       "      <td>NaN</td>\n",
       "    </tr>\n",
       "    <tr>\n",
       "      <th>7</th>\n",
       "      <td>Rutuja</td>\n",
       "      <td>25</td>\n",
       "      <td>DAC</td>\n",
       "      <td>NaN</td>\n",
       "      <td>67233.0</td>\n",
       "    </tr>\n",
       "    <tr>\n",
       "      <th>8</th>\n",
       "      <td>Kajal</td>\n",
       "      <td>20</td>\n",
       "      <td>DESD</td>\n",
       "      <td>kajal@gmail.com</td>\n",
       "      <td>12345.0</td>\n",
       "    </tr>\n",
       "    <tr>\n",
       "      <th>9</th>\n",
       "      <td>Harshita</td>\n",
       "      <td>27</td>\n",
       "      <td>DAC</td>\n",
       "      <td>harshu@gmail.com</td>\n",
       "      <td>57882.0</td>\n",
       "    </tr>\n",
       "  </tbody>\n",
       "</table>\n",
       "</div>"
      ],
      "text/plain": [
       "      Name   Age Course              Email  Mobile_no\n",
       "0  Harshita   27    DAC   harshu@gmail.com    12345.0\n",
       "1   Sourabh   26   DBDA  saurabh@gmail.com    57882.0\n",
       "2    Neeraj   24   DBDA   neeraj@gmail.com    56923.0\n",
       "3   Bhaskar   24    MBA  bhaskar@gmail.com    74632.0\n",
       "4    Dipika   28    NaN   dipika@gmail.com    98022.0\n",
       "5  Shraddha   25    NaN                NaN    63748.0\n",
       "6   Manthan   23   DBDA      man@gmail.com        NaN\n",
       "7    Rutuja   25    DAC                NaN    67233.0\n",
       "8     Kajal   20   DESD    kajal@gmail.com    12345.0\n",
       "9  Harshita   27    DAC   harshu@gmail.com    57882.0"
      ]
     },
     "execution_count": 5,
     "metadata": {},
     "output_type": "execute_result"
    }
   ],
   "source": [
    "df=pd.read_csv(\"CollegeData.csv\")\n",
    "df.head(10)"
   ]
  },
  {
   "cell_type": "code",
   "execution_count": 6,
   "id": "26210ba5",
   "metadata": {},
   "outputs": [
    {
     "name": "stdout",
     "output_type": "stream",
     "text": [
      "<class 'pandas.core.frame.DataFrame'>\n",
      "RangeIndex: 24 entries, 0 to 23\n",
      "Data columns (total 5 columns):\n",
      " #   Column     Non-Null Count  Dtype  \n",
      "---  ------     --------------  -----  \n",
      " 0   Name       24 non-null     object \n",
      " 1   Age        24 non-null     int64  \n",
      " 2   Course     16 non-null     object \n",
      " 3   Email      18 non-null     object \n",
      " 4   Mobile_no  19 non-null     float64\n",
      "dtypes: float64(1), int64(1), object(3)\n",
      "memory usage: 1.1+ KB\n"
     ]
    }
   ],
   "source": [
    "df.info()"
   ]
  },
  {
   "cell_type": "code",
   "execution_count": 13,
   "id": "4e1931a7",
   "metadata": {},
   "outputs": [
    {
     "data": {
      "text/plain": [
       "Mobile_no    5\n",
       "dtype: int64"
      ]
     },
     "execution_count": 13,
     "metadata": {},
     "output_type": "execute_result"
    }
   ],
   "source": [
    "df.select_dtypes(include=\"float64\").isnull().sum()"
   ]
  },
  {
   "cell_type": "code",
   "execution_count": 14,
   "id": "f0e077d0",
   "metadata": {},
   "outputs": [
    {
     "data": {
      "text/plain": [
       "Index(['Mobile_no'], dtype='object')"
      ]
     },
     "execution_count": 14,
     "metadata": {},
     "output_type": "execute_result"
    }
   ],
   "source": [
    "df.select_dtypes(include=\"float64\").columns"
   ]
  },
  {
   "cell_type": "code",
   "execution_count": 22,
   "id": "76b2a85e",
   "metadata": {},
   "outputs": [],
   "source": [
    "# filling missing value with mean\n",
    "si=SimpleImputer(strategy=\"mean\")\n",
    "# it applying mean strategy to columns transform into array \n",
    "# simple imputer show result in form of array\n",
    "arr=si.fit_transform(df[[\"Mobile_no\"]])"
   ]
  },
  {
   "cell_type": "code",
   "execution_count": 19,
   "id": "32dc8a72",
   "metadata": {},
   "outputs": [],
   "source": [
    "data=pd.DataFrame(arr,columns=[\"Mobile_no\"])"
   ]
  },
  {
   "cell_type": "code",
   "execution_count": 20,
   "id": "84cb2792",
   "metadata": {},
   "outputs": [
    {
     "data": {
      "text/plain": [
       "Mobile_no    0\n",
       "dtype: int64"
      ]
     },
     "execution_count": 20,
     "metadata": {},
     "output_type": "execute_result"
    }
   ],
   "source": [
    "data.isnull().sum()"
   ]
  },
  {
   "cell_type": "code",
   "execution_count": 23,
   "id": "b9bdbc32",
   "metadata": {},
   "outputs": [
    {
     "name": "stdout",
     "output_type": "stream",
     "text": [
      "<class 'pandas.core.frame.DataFrame'>\n",
      "RangeIndex: 24 entries, 0 to 23\n",
      "Data columns (total 1 columns):\n",
      " #   Column     Non-Null Count  Dtype  \n",
      "---  ------     --------------  -----  \n",
      " 0   Mobile_no  24 non-null     float64\n",
      "dtypes: float64(1)\n",
      "memory usage: 324.0 bytes\n"
     ]
    }
   ],
   "source": [
    "data.info()"
   ]
  },
  {
   "cell_type": "code",
   "execution_count": null,
   "id": "2286695e",
   "metadata": {},
   "outputs": [],
   "source": []
  }
 ],
 "metadata": {
  "kernelspec": {
   "display_name": "Python 3 (ipykernel)",
   "language": "python",
   "name": "python3"
  },
  "language_info": {
   "codemirror_mode": {
    "name": "ipython",
    "version": 3
   },
   "file_extension": ".py",
   "mimetype": "text/x-python",
   "name": "python",
   "nbconvert_exporter": "python",
   "pygments_lexer": "ipython3",
   "version": "3.11.5"
  }
 },
 "nbformat": 4,
 "nbformat_minor": 5
}
